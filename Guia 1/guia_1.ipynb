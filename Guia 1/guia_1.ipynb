{
 "cells": [
  {
   "cell_type": "markdown",
   "metadata": {},
   "source": [
    "# Práctica 1"
   ]
  },
  {
   "cell_type": "markdown",
   "metadata": {},
   "source": [
    "## Ejercicio 1"
   ]
  },
  {
   "cell_type": "markdown",
   "metadata": {},
   "source": [
    "### d) Simular en R el experimento de tirar dos veces un dado equilibrado."
   ]
  },
  {
   "cell_type": "code",
   "execution_count": 1,
   "metadata": {},
   "outputs": [],
   "source": [
    "import random\n",
    "\n",
    "def tirar_un_dado():\n",
    "    return random.randrange(1, 7, 1)"
   ]
  },
  {
   "cell_type": "code",
   "execution_count": 34,
   "metadata": {},
   "outputs": [
    {
     "name": "stdout",
     "output_type": "stream",
     "text": [
      "Primer tirada: 6\n",
      "Segunda tirada: 4\n"
     ]
    }
   ],
   "source": [
    "res_1 = tirar_un_dado()\n",
    "res_2 = tirar_un_dado()\n",
    "\n",
    "print(\"Primer tirada:\", res_1)\n",
    "print(\"Segunda tirada:\", res_2)\n",
    "\n",
    "del res_1, res_2"
   ]
  },
  {
   "cell_type": "markdown",
   "metadata": {},
   "source": [
    "### e) Simular 1000 veces en R el experimento de tirar dos veces un dado equilibrado y\n",
    "estimar las probabilidades de los sucesos definidos en 1b).\n",
    "\n",
    "- A: la suma de los dos números obtenidos es por lo menos 5\n",
    "- B: el valor obtenido en el primer tiro es superior al obtenido en el segundo\n",
    "- C: el valor obtenido en el primer tiro es un 4"
   ]
  },
  {
   "cell_type": "code",
   "execution_count": 42,
   "metadata": {},
   "outputs": [
    {
     "name": "stdout",
     "output_type": "stream",
     "text": [
      "La probabilidad de obtener una suma de por lo menos 5 es: 0.82\n"
     ]
    }
   ],
   "source": [
    "#A\n",
    "\n",
    "cant_suma_mayor_a_5 = {\n",
    "    True: 0,\n",
    "    False: 0\n",
    "}\n",
    "\n",
    "for i in range(0, 1000, 1):\n",
    "    res_1 = tirar_un_dado()\n",
    "    res_2 = tirar_un_dado()\n",
    "\n",
    "    suma_mayor_a_5 = res_1 + res_2 >= 5\n",
    "\n",
    "    cant_suma_mayor_a_5[suma_mayor_a_5] += 1\n",
    "\n",
    "    del res_1, res_2, suma_mayor_a_5\n",
    "\n",
    "proba_A = cant_suma_mayor_a_5[True] / 1000\n",
    "\n",
    "print(\"La probabilidad de obtener una suma de por lo menos 5 es:\", f'{proba_A:.2f}')\n",
    "\n",
    "del cant_suma_mayor_a_5, proba_A"
   ]
  },
  {
   "cell_type": "code",
   "execution_count": 56,
   "metadata": {},
   "outputs": [
    {
     "name": "stdout",
     "output_type": "stream",
     "text": [
      "La probabilidad de que la primera tirada sea mayor que las segunda es: 0.40\n"
     ]
    }
   ],
   "source": [
    "#B\n",
    "\n",
    "valor_primero_es_mayor = {\n",
    "    True: 0,\n",
    "    False: 0\n",
    "}\n",
    "\n",
    "for i in range(0, 1000, 1):\n",
    "    res_1 = tirar_un_dado()\n",
    "    res_2 = tirar_un_dado()\n",
    "\n",
    "    res_1_es_mayor = res_1 > res_2\n",
    "\n",
    "    valor_primero_es_mayor[res_1_es_mayor] += 1\n",
    "\n",
    "    del res_1, res_2, res_1_es_mayor\n",
    "\n",
    "proba_B = valor_primero_es_mayor[True] / 1000\n",
    "\n",
    "print(\"La probabilidad de que la primera tirada sea mayor que las segunda es:\", f'{proba_B:.2f}')\n",
    "\n",
    "del valor_primero_es_mayor, proba_B"
   ]
  },
  {
   "cell_type": "code",
   "execution_count": 64,
   "metadata": {},
   "outputs": [
    {
     "name": "stdout",
     "output_type": "stream",
     "text": [
      "La probabiliad de que el primer dado sea 4 es: 0.17\n"
     ]
    }
   ],
   "source": [
    "#C\n",
    "\n",
    "cant_primero_es_4 = {\n",
    "    True: 0,\n",
    "    False: 0\n",
    "}\n",
    "\n",
    "for i in range(0, 1000, 1):\n",
    "    res_1 = tirar_un_dado()\n",
    "    res_2 = tirar_un_dado()\n",
    "\n",
    "    primero_es_4 = res_1 == 4\n",
    "\n",
    "    cant_primero_es_4[primero_es_4] += 1\n",
    "\n",
    "    del res_1, res_2, primero_es_4\n",
    "\n",
    "proba_C = cant_primero_es_4[True] / 1000\n",
    "\n",
    "print(\"La probabiliad de que el primer dado sea 4 es:\", f'{proba_C:.2f}')\n",
    "\n",
    "del cant_primero_es_4, proba_C"
   ]
  },
  {
   "cell_type": "markdown",
   "metadata": {},
   "source": [
    "### h) Estimar las probabilidades de los sucesos definidos en 1f ) mediante simulaciones.\n",
    "Comparar con los resultados obtenidos en 1g).\n",
    "\n",
    "- i. A ∩ B\n",
    "- ii. B ∪ C\n",
    "- iii. A ∩ (B ∪ C)"
   ]
  },
  {
   "cell_type": "code",
   "execution_count": 88,
   "metadata": {},
   "outputs": [
    {
     "name": "stdout",
     "output_type": "stream",
     "text": [
      "La probabiliad de que la suma de los dados sea por lo menos 5 y el primero dado sea mayor al segundo es: 0.36\n"
     ]
    }
   ],
   "source": [
    "#i\n",
    "\n",
    "n = 10000 #cant_experimentos\n",
    "\n",
    "cant_valen_A_y_B = {\n",
    "    True: 0,\n",
    "    False: 0\n",
    "}\n",
    "\n",
    "def valen_A_y_B(res_1, res_2):\n",
    "    return res_1 + res_2 >= 5 and res_1 > res_2\n",
    "\n",
    "for i in range(0, n, 1):\n",
    "    res_1 = tirar_un_dado()\n",
    "    res_2 = tirar_un_dado()\n",
    "\n",
    "    res_experimento = valen_A_y_B(res_1, res_2)\n",
    "\n",
    "    cant_valen_A_y_B[res_experimento] += 1\n",
    "\n",
    "    del res_1, res_2, res_experimento\n",
    "\n",
    "proba_A_y_B = cant_valen_A_y_B[True] / n\n",
    "\n",
    "print(\"La probabiliad de que la suma de los dados sea por lo menos 5 y el primero dado sea mayor al segundo es:\", f'{proba_A_y_B:.2f}')\n",
    "\n",
    "del n, cant_valen_A_y_B, proba_A_y_B"
   ]
  },
  {
   "cell_type": "code",
   "execution_count": 105,
   "metadata": {},
   "outputs": [
    {
     "name": "stdout",
     "output_type": "stream",
     "text": [
      "La probabiliad de que el primer dado sea mayor al segundo o el primero sea igual a 4 es: 0.50\n"
     ]
    }
   ],
   "source": [
    "# ii\n",
    "\n",
    "n = 10000\n",
    "\n",
    "cant_valen_B_o_C = {\n",
    "    True: 0,\n",
    "    False: 0\n",
    "}\n",
    "\n",
    "def valen_B_o_C(res_1, res_2):\n",
    "    return res_1 > res_2 or res_1 == 4\n",
    "\n",
    "for i in range(0, n, 1):\n",
    "    res_1 = tirar_un_dado()\n",
    "    res_2 = tirar_un_dado()\n",
    "\n",
    "    res_experimento = valen_B_o_C(res_1, res_2)\n",
    "\n",
    "    cant_valen_B_o_C[res_experimento] += 1\n",
    "\n",
    "    del res_1, res_2, res_experimento\n",
    "\n",
    "proba_B_o_C = cant_valen_B_o_C[True] / n\n",
    "\n",
    "print(\"La probabiliad de que el primer dado sea mayor al segundo o el primero sea igual a 4 es:\", f'{proba_B_o_C:.2f}')\n",
    "\n",
    "del n, cant_valen_B_o_C, proba_B_o_C"
   ]
  },
  {
   "cell_type": "code",
   "execution_count": 122,
   "metadata": {},
   "outputs": [
    {
     "name": "stdout",
     "output_type": "stream",
     "text": [
      "La probabiliad de que la suma de ambos dados sea por lo menos 5 y que el primero sea 4 o por lo menos mayor al segundo es:0.45\n"
     ]
    }
   ],
   "source": [
    "# iii\n",
    "\n",
    "n = 10000\n",
    "\n",
    "cant_valen_A_y_II = {\n",
    "    True: 0,\n",
    "    False: 0\n",
    "}\n",
    "\n",
    "def valen_A_y_II(res_1, res_2):\n",
    "    return res_1 + res_2 >= 5 and valen_B_o_C(res_1, res_2)\n",
    "\n",
    "for i in range(0, n, 1):\n",
    "    res_1 = tirar_un_dado()\n",
    "    res_2 = tirar_un_dado()\n",
    "\n",
    "    res_experimento = valen_A_y_II(res_1, res_2)\n",
    "\n",
    "    cant_valen_A_y_II[res_experimento] += 1\n",
    "\n",
    "    del res_1, res_2, res_experimento\n",
    "\n",
    "proba_A_y_II = cant_valen_A_y_II[True] / n\n",
    "\n",
    "print(\"La probabiliad de que la suma de ambos dados sea por lo menos 5 y que el primero sea 4 o por lo menos mayor al segundo es:\" f'{proba_A_y_II:.2f}')\n",
    "\n",
    "del n, cant_valen_A_y_II, proba_A_y_II"
   ]
  },
  {
   "cell_type": "markdown",
   "metadata": {},
   "source": [
    "## Ejercicio 11"
   ]
  },
  {
   "cell_type": "markdown",
   "metadata": {},
   "source": [
    "### Estime las probabildades de los items anteriores por medio de una simulación\n",
    "\n",
    "Una persona arroja dos dados equilibrados. Calcular la probabilidad de que la suma\n",
    "sea 7 dado que\n",
    "- a) la suma es impar.\n",
    "- b) la suma es mayor que 6.\n",
    "- c) el número del segundo dado es par.\n",
    "- d) el número de alguno de los dados es impar.\n",
    "- e) los números de los dados son iguales"
   ]
  },
  {
   "cell_type": "code",
   "execution_count": 14,
   "metadata": {},
   "outputs": [
    {
     "name": "stdout",
     "output_type": "stream",
     "text": [
      "La probabilidad de que la suma sea 7 dado que es impar es: 0.33\n"
     ]
    }
   ],
   "source": [
    "#a\n",
    "\n",
    "n = 10000 #cant de experimentos\n",
    "\n",
    "def obtener_suma_impar():\n",
    "    suma_impar = False\n",
    "    suma = 0\n",
    "\n",
    "    while not suma_impar:\n",
    "        res_1 = tirar_un_dado()\n",
    "        res_2 = tirar_un_dado()\n",
    "\n",
    "        suma = res_1 + res_2\n",
    "\n",
    "        if (suma % 2 == 1):\n",
    "            suma_impar = True\n",
    "\n",
    "    return suma\n",
    "    \n",
    "\n",
    "cant_veces_que_suma_7 = {\n",
    "    True: 0,\n",
    "    False: 0\n",
    "}\n",
    "\n",
    "for i in range(0, n, 1):\n",
    "    suma = obtener_suma_impar()\n",
    "\n",
    "    res_experimento = suma == 7\n",
    "\n",
    "    cant_veces_que_suma_7[res_experimento] += 1\n",
    "\n",
    "    del suma, res_experimento\n",
    "\n",
    "proba_suma_es_siete = cant_veces_que_suma_7[True] / n\n",
    "\n",
    "print(\"La probabilidad de que la suma sea 7 dado que es impar es:\", f'{proba_suma_es_siete:.2f}')\n",
    "\n",
    "del n, cant_veces_que_suma_7, proba_suma_es_siete"
   ]
  },
  {
   "cell_type": "code",
   "execution_count": null,
   "metadata": {},
   "outputs": [],
   "source": [
    "#b\n",
    "\n",
    "n = 10000 #cant de experimentos\n",
    "\n",
    "def obtener_suma_mayor_a_6():\n",
    "    suma_mayor_que_6 = False\n",
    "    suma = 0\n",
    "\n",
    "    while not suma_mayor_que_6:\n",
    "        res_1 = tirar_un_dado()\n",
    "        res_2 = tirar_un_dado()\n",
    "\n",
    "        suma = res_1 + res_2\n",
    "\n",
    "        if (suma > 6):\n",
    "            suma_mayor_que_6 = True\n",
    "\n",
    "    return suma\n",
    "    \n",
    "\n",
    "cant_veces_que_suma_7 = {\n",
    "    True: 0,\n",
    "    False: 0\n",
    "}\n",
    "\n",
    "for i in range(0, n, 1):\n",
    "    suma = obtener_suma_mayor_a_6()\n",
    "\n",
    "    res_experimento = suma == 7\n",
    "\n",
    "    cant_veces_que_suma_7[res_experimento] += 1\n",
    "\n",
    "    del suma, res_experimento\n",
    "\n",
    "proba_suma_es_siete = cant_veces_que_suma_7[True] / n\n",
    "\n",
    "print(\"La probabilidad de que la suma sea 7 dado que es mayor a 6 es:\", f'{proba_suma_es_siete:.2f}')\n",
    "\n",
    "del n, cant_veces_que_suma_7, proba_suma_es_siete\n"
   ]
  },
  {
   "cell_type": "code",
   "execution_count": 21,
   "metadata": {},
   "outputs": [
    {
     "name": "stdout",
     "output_type": "stream",
     "text": [
      "La probabilidad de que la suma sea 7 dado que el segundo es par es: 0.16\n"
     ]
    }
   ],
   "source": [
    "#c\n",
    "\n",
    "n = 10000 #cant de experimentos\n",
    "\n",
    "def obtener_el_segundo_es_par():\n",
    "    el_segundo_es_par = False\n",
    "    suma = 0\n",
    "\n",
    "    while not el_segundo_es_par:\n",
    "        res_1 = tirar_un_dado()\n",
    "        res_2 = tirar_un_dado()\n",
    "\n",
    "        suma = res_1 + res_2\n",
    "\n",
    "        if (res_2 % 2 == 0):\n",
    "            el_segundo_es_par = True\n",
    "\n",
    "    return suma\n",
    "    \n",
    "\n",
    "cant_veces_que_suma_7 = {\n",
    "    True: 0,\n",
    "    False: 0\n",
    "}\n",
    "\n",
    "for i in range(0, n, 1):\n",
    "    suma = obtener_el_segundo_es_par()\n",
    "\n",
    "    res_experimento = suma == 7\n",
    "\n",
    "    cant_veces_que_suma_7[res_experimento] += 1\n",
    "\n",
    "    del suma, res_experimento\n",
    "\n",
    "proba_suma_es_siete = cant_veces_que_suma_7[True] / n\n",
    "\n",
    "print(\"La probabilidad de que la suma sea 7 dado que el segundo es par es:\", f'{proba_suma_es_siete:.2f}')\n",
    "\n",
    "del n, cant_veces_que_suma_7, proba_suma_es_siete\n"
   ]
  },
  {
   "cell_type": "code",
   "execution_count": 22,
   "metadata": {},
   "outputs": [
    {
     "name": "stdout",
     "output_type": "stream",
     "text": [
      "La probabilidad de que la suma sea 7 dado que al menos uno es impar: 0.23\n"
     ]
    }
   ],
   "source": [
    "#d\n",
    "\n",
    "n = 10000 #cant de experimentos\n",
    "\n",
    "def obtener_almenos_uno_impar():\n",
    "    almenos_uno_impar = False\n",
    "    suma = 0\n",
    "\n",
    "    while not almenos_uno_impar:\n",
    "        res_1 = tirar_un_dado()\n",
    "        res_2 = tirar_un_dado()\n",
    "\n",
    "        suma = res_1 + res_2\n",
    "\n",
    "        if (res_1 % 2 == 1 or res_2 % 2 == 1):\n",
    "            almenos_uno_impar = True\n",
    "\n",
    "    return suma\n",
    "    \n",
    "\n",
    "cant_veces_que_suma_7 = {\n",
    "    True: 0,\n",
    "    False: 0\n",
    "}\n",
    "\n",
    "for i in range(0, n, 1):\n",
    "    suma = obtener_almenos_uno_impar()\n",
    "\n",
    "    res_experimento = suma == 7\n",
    "\n",
    "    cant_veces_que_suma_7[res_experimento] += 1\n",
    "\n",
    "    del suma, res_experimento\n",
    "\n",
    "proba_suma_es_siete = cant_veces_que_suma_7[True] / n\n",
    "\n",
    "print(\"La probabilidad de que la suma sea 7 dado que al menos uno es impar:\", f'{proba_suma_es_siete:.2f}')\n",
    "\n",
    "del n, cant_veces_que_suma_7, proba_suma_es_siete\n"
   ]
  },
  {
   "cell_type": "code",
   "execution_count": 23,
   "metadata": {},
   "outputs": [
    {
     "name": "stdout",
     "output_type": "stream",
     "text": [
      "La probabilidad de que la suma sea 7 dado que son iguales: 0.00\n"
     ]
    }
   ],
   "source": [
    "#e\n",
    "\n",
    "n = 10000 #cant de experimentos\n",
    "\n",
    "def obtener_dos_iguales():\n",
    "    dos_iguales = False\n",
    "    suma = 0\n",
    "\n",
    "    while not dos_iguales:\n",
    "        res_1 = tirar_un_dado()\n",
    "        res_2 = tirar_un_dado()\n",
    "\n",
    "        suma = res_1 + res_2\n",
    "\n",
    "        if (res_1 == res_2):\n",
    "            dos_iguales = True\n",
    "\n",
    "    return suma\n",
    "    \n",
    "\n",
    "cant_veces_que_suma_7 = {\n",
    "    True: 0,\n",
    "    False: 0\n",
    "}\n",
    "\n",
    "for i in range(0, n, 1):\n",
    "    suma = obtener_dos_iguales()\n",
    "\n",
    "    res_experimento = suma == 7\n",
    "\n",
    "    cant_veces_que_suma_7[res_experimento] += 1\n",
    "\n",
    "    del suma, res_experimento\n",
    "\n",
    "proba_suma_es_siete = cant_veces_que_suma_7[True] / n\n",
    "\n",
    "print(\"La probabilidad de que la suma sea 7 dado que son iguales:\", f'{proba_suma_es_siete:.2f}')\n",
    "\n",
    "del n, cant_veces_que_suma_7, proba_suma_es_siete"
   ]
  }
 ],
 "metadata": {
  "kernelspec": {
   "display_name": "base",
   "language": "python",
   "name": "python3"
  },
  "language_info": {
   "codemirror_mode": {
    "name": "ipython",
    "version": 3
   },
   "file_extension": ".py",
   "mimetype": "text/x-python",
   "name": "python",
   "nbconvert_exporter": "python",
   "pygments_lexer": "ipython3",
   "version": "3.11.5"
  }
 },
 "nbformat": 4,
 "nbformat_minor": 2
}
